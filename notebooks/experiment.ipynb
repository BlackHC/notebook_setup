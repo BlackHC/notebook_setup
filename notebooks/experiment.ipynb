{
 "cells": [
  {
   "cell_type": "code",
   "execution_count": 1,
   "id": "damaged-royalty",
   "metadata": {},
   "outputs": [
    {
     "name": "stdout",
     "output_type": "stream",
     "text": [
      "Switched to directory /home/blackhc/PycharmProjects/notebook_setup\n",
      "%load_ext autoreload\n",
      "%autoreload 2\n"
     ]
    }
   ],
   "source": [
    "import blackhc.project.experiment"
   ]
  },
  {
   "cell_type": "code",
   "execution_count": 3,
   "id": "stone-prime",
   "metadata": {},
   "outputs": [
    {
     "name": "stdout",
     "output_type": "stream",
     "text": [
      "Command line:\n",
      "/home/blackhc/anaconda3/envs/notebook_setup/lib/python3.8/site-packages/ipykernel_launcher.py|-f|/home/blackhc/.local/share/jupyter/runtime/kernel-d5f54e1b-73bd-43c3-819d-90e16949927a.json\n",
      "GitHub URL: https://github.com/BlackHC/notebook_setup/commit/38a64c9dccfaeab44185efd59f6ecce964ce9056\n",
      "Commit: 38a64c9dccfaeab44185efd59f6ecce964ce9056\n",
      "Results stored in /home/blackhc/PycharmProjects/notebook_setup/results/test_result_2021-11-16-203304.py\n"
     ]
    },
    {
     "data": {
      "text/plain": [
       "{'timestamp': 1637094784, 'cmdline': ['/home/blackhc/anaconda3/envs/notebook_setup/lib/python3.8/site-packages/ipykernel_launcher.py', '-f', '/home/blackhc/.local/share/jupyter/runtime/kernel-d5f54e1b-73bd-43c3-819d-90e16949927a.json'], 'commit': '38a64c9dccfaeab44185efd59f6ecce964ce9056', 'github_url': 'https://github.com/BlackHC/notebook_setup/commit/38a64c9dccfaeab44185efd59f6ecce964ce9056', 'experiment': '/home/blackhc/PycharmProjects/notebook_setup/test.py'}"
      ]
     },
     "execution_count": 3,
     "metadata": {},
     "output_type": "execute_result"
    }
   ],
   "source": [
    "blackhc.project.experiment.embedded_experiment(\"test.py\")"
   ]
  }
 ],
 "metadata": {
  "kernelspec": {
   "display_name": "Python [conda env:notebook_setup]",
   "language": "python",
   "name": "conda-env-notebook_setup-py"
  },
  "language_info": {
   "codemirror_mode": {
    "name": "ipython",
    "version": 3
   },
   "file_extension": ".py",
   "mimetype": "text/x-python",
   "name": "python",
   "nbconvert_exporter": "python",
   "pygments_lexer": "ipython3",
   "version": "3.8.5"
  }
 },
 "nbformat": 4,
 "nbformat_minor": 5
}
