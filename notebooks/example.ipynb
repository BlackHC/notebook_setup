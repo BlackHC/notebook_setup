{
 "cells": [
  {
   "cell_type": "code",
   "execution_count": null,
   "metadata": {
    "ExecuteTime": {
     "end_time": "2018-02-23T18:47:18.197961Z",
     "start_time": "2018-02-23T18:47:18.188933Z"
    }
   },
   "outputs": [
    {
     "data": {
      "text/plain": [
       "'C:\\\\Users\\\\black\\\\PycharmProjects\\\\notebook_setup\\\\notebooks'"
      ]
     },
     "execution_count": 1,
     "metadata": {},
     "output_type": "execute_result"
    }
   ],
   "source": [
    "%pwd"
   ]
  },
  {
   "cell_type": "code",
   "execution_count": 2,
   "metadata": {
    "ExecuteTime": {
     "end_time": "2018-02-23T18:47:21.674961Z",
     "start_time": "2018-02-23T18:47:21.476935Z"
    }
   },
   "outputs": [
    {
     "name": "stdout",
     "output_type": "stream",
     "text": [
      "Appended C:\\Users\\black\\PycharmProjects\\notebook_setup\\src to paths\n",
      "Switched to directory C:\\Users\\black\\PycharmProjects\\notebook_setup\n"
     ]
    }
   ],
   "source": [
    "import blackhc.notebook"
   ]
  },
  {
   "cell_type": "code",
   "execution_count": 3,
   "metadata": {
    "ExecuteTime": {
     "end_time": "2018-02-23T18:47:28.296935Z",
     "start_time": "2018-02-23T18:47:28.291934Z"
    }
   },
   "outputs": [
    {
     "data": {
      "text/plain": [
       "['C:\\\\Program Files\\\\Anaconda3\\\\lib\\\\site-packages\\\\git\\\\ext\\\\gitdb',\n",
       " '',\n",
       " 'C:\\\\Program Files\\\\Anaconda3\\\\python36.zip',\n",
       " 'C:\\\\Program Files\\\\Anaconda3\\\\DLLs',\n",
       " 'C:\\\\Program Files\\\\Anaconda3\\\\lib',\n",
       " 'C:\\\\Program Files\\\\Anaconda3',\n",
       " 'C:\\\\Program Files\\\\Anaconda3\\\\lib\\\\site-packages',\n",
       " 'C:\\\\Program Files\\\\Anaconda3\\\\lib\\\\site-packages\\\\Sphinx-1.5.1-py3.6.egg',\n",
       " 'c:\\\\users\\\\black\\\\baselines',\n",
       " 'c:\\\\users\\\\black\\\\pycharmprojects\\\\mdp',\n",
       " 'c:\\\\users\\\\black\\\\pycharmprojects\\\\notebook_setup\\\\src',\n",
       " 'C:\\\\Program Files\\\\Anaconda3\\\\lib\\\\site-packages\\\\win32',\n",
       " 'C:\\\\Program Files\\\\Anaconda3\\\\lib\\\\site-packages\\\\win32\\\\lib',\n",
       " 'C:\\\\Program Files\\\\Anaconda3\\\\lib\\\\site-packages\\\\Pythonwin',\n",
       " 'C:\\\\Program Files\\\\Anaconda3\\\\lib\\\\site-packages\\\\IPython\\\\extensions',\n",
       " 'C:\\\\Users\\\\black\\\\.ipython',\n",
       " 'C:\\\\Program Files\\\\Anaconda3\\\\lib\\\\site-packages\\\\gitdb\\\\ext\\\\smmap',\n",
       " 'C:\\\\Users\\\\black\\\\PycharmProjects\\\\notebook_setup\\\\src']"
      ]
     },
     "execution_count": 3,
     "metadata": {},
     "output_type": "execute_result"
    }
   ],
   "source": [
    "blackhc.notebook.sys.path\n"
   ]
  }
 ],
 "metadata": {
  "hide_input": false,
  "kernelspec": {
   "display_name": "Python 3",
   "language": "python",
   "name": "python3"
  },
  "language_info": {
   "codemirror_mode": {
    "name": "ipython",
    "version": 3
   },
   "file_extension": ".py",
   "mimetype": "text/x-python",
   "name": "python",
   "nbconvert_exporter": "python",
   "pygments_lexer": "ipython3",
   "version": "3.6.3"
  },
  "varInspector": {
   "cols": {
    "lenName": 16.0,
    "lenType": 16.0,
    "lenVar": 40.0
   },
   "kernels_config": {
    "python": {
     "delete_cmd_postfix": "",
     "delete_cmd_prefix": "del ",
     "library": "var_list.py",
     "varRefreshCmd": "print(var_dic_list())"
    },
    "r": {
     "delete_cmd_postfix": ") ",
     "delete_cmd_prefix": "rm(",
     "library": "var_list.r",
     "varRefreshCmd": "cat(var_dic_list()) "
    }
   },
   "types_to_exclude": [
    "module",
    "function",
    "builtin_function_or_method",
    "instance",
    "_Feature"
   ],
   "window_display": false
  }
 },
 "nbformat": 4,
 "nbformat_minor": 1
}
