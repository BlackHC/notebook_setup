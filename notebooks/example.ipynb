{
 "cells": [
  {
   "cell_type": "code",
   "execution_count": 1,
   "metadata": {
    "ExecuteTime": {
     "end_time": "2018-02-23T18:47:18.197961Z",
     "start_time": "2018-02-23T18:47:18.188933Z"
    },
    "pycharm": {
     "is_executing": false
    }
   },
   "outputs": [
    {
     "data": {
      "text/plain": [
       "'/home/blackhc/PycharmProjects/notebook_setup/notebooks'"
      ]
     },
     "execution_count": 1,
     "metadata": {},
     "output_type": "execute_result"
    }
   ],
   "source": [
    "%pwd"
   ]
  },
  {
   "cell_type": "code",
   "execution_count": 2,
   "metadata": {
    "ExecuteTime": {
     "end_time": "2018-02-23T18:47:21.674961Z",
     "start_time": "2018-02-23T18:47:21.476935Z"
    },
    "pycharm": {
     "is_executing": false
    }
   },
   "outputs": [
    {
     "name": "stdout",
     "output_type": "stream",
     "text": [
      "Switched to directory /home/blackhc/PycharmProjects/notebook_setup\n",
      "%load_ext autoreload\n",
      "%autoreload 2\n"
     ]
    }
   ],
   "source": [
    "import blackhc.project.script"
   ]
  },
  {
   "cell_type": "code",
   "execution_count": 3,
   "metadata": {
    "ExecuteTime": {
     "end_time": "2018-02-23T18:47:28.296935Z",
     "start_time": "2018-02-23T18:47:28.291934Z"
    },
    "pycharm": {
     "is_executing": false
    }
   },
   "outputs": [
    {
     "data": {
      "text/plain": [
       "['/home/blackhc/PycharmProjects/notebook_setup/notebooks',\n",
       " '/home/blackhc/anaconda3/envs/notebook_setup/lib/python3.8/site-packages/git/ext/gitdb',\n",
       " '/home/blackhc/anaconda3/envs/notebook_setup/lib/python38.zip',\n",
       " '/home/blackhc/anaconda3/envs/notebook_setup/lib/python3.8',\n",
       " '/home/blackhc/anaconda3/envs/notebook_setup/lib/python3.8/lib-dynload',\n",
       " '',\n",
       " '/home/blackhc/anaconda3/envs/notebook_setup/lib/python3.8/site-packages',\n",
       " '/home/blackhc/PycharmProjects/notebook_setup/src',\n",
       " '/home/blackhc/anaconda3/envs/notebook_setup/lib/python3.8/site-packages/IPython/extensions',\n",
       " '/home/blackhc/.ipython',\n",
       " '/home/blackhc/anaconda3/envs/notebook_setup/lib/python3.8/site-packages/gitdb/ext/smmap']"
      ]
     },
     "execution_count": 3,
     "metadata": {},
     "output_type": "execute_result"
    }
   ],
   "source": [
    "blackhc.project.sys.path\n"
   ]
  },
  {
   "cell_type": "code",
   "execution_count": null,
   "metadata": {},
   "outputs": [],
   "source": []
  }
 ],
 "metadata": {
  "hide_input": false,
  "kernelspec": {
   "display_name": "Python [conda env:notebook_setup]",
   "language": "python",
   "name": "conda-env-notebook_setup-py"
  },
  "language_info": {
   "codemirror_mode": {
    "name": "ipython",
    "version": 3
   },
   "file_extension": ".py",
   "mimetype": "text/x-python",
   "name": "python",
   "nbconvert_exporter": "python",
   "pygments_lexer": "ipython3",
   "version": "3.8.5"
  },
  "pycharm": {
   "stem_cell": {
    "cell_type": "raw",
    "metadata": {
     "collapsed": false
    },
    "source": []
   }
  },
  "varInspector": {
   "cols": {
    "lenName": 16,
    "lenType": 16,
    "lenVar": 40
   },
   "kernels_config": {
    "python": {
     "delete_cmd_postfix": "",
     "delete_cmd_prefix": "del ",
     "library": "var_list.py",
     "varRefreshCmd": "print(var_dic_list())"
    },
    "r": {
     "delete_cmd_postfix": ") ",
     "delete_cmd_prefix": "rm(",
     "library": "var_list.r",
     "varRefreshCmd": "cat(var_dic_list()) "
    }
   },
   "types_to_exclude": [
    "module",
    "function",
    "builtin_function_or_method",
    "instance",
    "_Feature"
   ],
   "window_display": false
  }
 },
 "nbformat": 4,
 "nbformat_minor": 4
}
