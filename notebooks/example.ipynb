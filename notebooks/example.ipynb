{
 "cells": [
  {
   "cell_type": "code",
   "execution_count": 1,
   "metadata": {
    "ExecuteTime": {
     "end_time": "2018-02-23T18:47:18.197961Z",
     "start_time": "2018-02-23T18:47:18.188933Z"
    },
    "pycharm": {
     "is_executing": false
    }
   },
   "outputs": [
    {
     "data": {
      "text/plain": "'/home/blackhc/PycharmProjects/notebook_setup/notebooks'"
     },
     "metadata": {},
     "output_type": "execute_result",
     "execution_count": 1
    }
   ],
   "source": [
    "%pwd"
   ]
  },
  {
   "cell_type": "code",
   "execution_count": 2,
   "metadata": {
    "ExecuteTime": {
     "end_time": "2018-02-23T18:47:21.674961Z",
     "start_time": "2018-02-23T18:47:21.476935Z"
    },
    "pycharm": {
     "is_executing": false
    }
   },
   "outputs": [
    {
     "name": "stdout",
     "text": [
      "Switched to directory /home/blackhc/PycharmProjects/notebook_setup\n",
      "%load_ext autoreload\n",
      "%autoreload 2\n"
     ],
     "output_type": "stream"
    }
   ],
   "source": [
    "import blackhc.project.script"
   ]
  },
  {
   "cell_type": "code",
   "execution_count": 3,
   "metadata": {
    "ExecuteTime": {
     "end_time": "2018-02-23T18:47:28.296935Z",
     "start_time": "2018-02-23T18:47:28.291934Z"
    },
    "pycharm": {
     "is_executing": false
    }
   },
   "outputs": [
    {
     "data": {
      "text/plain": "['/home/blackhc/.conda/envs/laaos/lib/python3.7/site-packages/git/ext/gitdb',\n '/home/blackhc/PycharmProjects/notebook_setup/notebooks',\n '/home/blackhc/PycharmProjects/notebook_setup',\n '/home/blackhc/PycharmProjects/notebook_setup/src',\n '/home/blackhc/.conda/envs/laaos/lib/python37.zip',\n '/home/blackhc/.conda/envs/laaos/lib/python3.7',\n '/home/blackhc/.conda/envs/laaos/lib/python3.7/lib-dynload',\n '',\n '/home/blackhc/.local/lib/python3.7/site-packages',\n '/home/blackhc/.conda/envs/laaos/lib/python3.7/site-packages',\n '/home/blackhc/.conda/envs/laaos/lib/python3.7/site-packages/IPython/extensions',\n '/home/blackhc/.ipython',\n '/home/blackhc/.local/share/JetBrains/Toolbox/apps/PyCharm-P/ch-0/193.5662.61/plugins/python/helpers/pydev',\n '/home/blackhc/.local/share/JetBrains/Toolbox/apps/PyCharm-P/ch-0/193.5662.61/plugins/python/helpers-pro/jupyter_debug',\n '/home/blackhc/.conda/envs/laaos/lib/python3.7/site-packages/gitdb/ext/smmap']"
     },
     "metadata": {},
     "output_type": "execute_result",
     "execution_count": 3
    }
   ],
   "source": [
    "blackhc.project.sys.path\n"
   ]
  }
 ],
 "metadata": {
  "hide_input": false,
  "kernelspec": {
   "display_name": "Python 3",
   "language": "python",
   "name": "python3"
  },
  "language_info": {
   "codemirror_mode": {
    "name": "ipython",
    "version": 3
   },
   "file_extension": ".py",
   "mimetype": "text/x-python",
   "name": "python",
   "nbconvert_exporter": "python",
   "pygments_lexer": "ipython3",
   "version": "3.6.3"
  },
  "varInspector": {
   "cols": {
    "lenName": 16.0,
    "lenType": 16.0,
    "lenVar": 40.0
   },
   "kernels_config": {
    "python": {
     "delete_cmd_postfix": "",
     "delete_cmd_prefix": "del ",
     "library": "var_list.py",
     "varRefreshCmd": "print(var_dic_list())"
    },
    "r": {
     "delete_cmd_postfix": ") ",
     "delete_cmd_prefix": "rm(",
     "library": "var_list.r",
     "varRefreshCmd": "cat(var_dic_list()) "
    }
   },
   "types_to_exclude": [
    "module",
    "function",
    "builtin_function_or_method",
    "instance",
    "_Feature"
   ],
   "window_display": false
  },
  "pycharm": {
   "stem_cell": {
    "cell_type": "raw",
    "source": [],
    "metadata": {
     "collapsed": false
    }
   }
  }
 },
 "nbformat": 4,
 "nbformat_minor": 1
}